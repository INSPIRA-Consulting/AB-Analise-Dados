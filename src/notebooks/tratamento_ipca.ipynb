{
 "cells": [
  {
   "cell_type": "markdown",
   "id": "750079b5",
   "metadata": {},
   "source": [
    "# Tratamento de Dados IPCA - IBGE\n",
    "\n",
    "Este notebook realiza o tratamento dos dados do IPCA (Índice de Preços ao Consumidor Amplo) do IBGE, incluindo limpeza, ordenação e padronização dos dados."
   ]
  },
  {
   "cell_type": "markdown",
   "id": "59b6a0e1",
   "metadata": {},
   "source": [
    "## 1. Importação de Bibliotecas"
   ]
  },
  {
   "cell_type": "code",
   "execution_count": 15,
   "id": "8d9b6eaf",
   "metadata": {},
   "outputs": [],
   "source": [
    "import pandas as pd\n",
    "import gzip\n",
    "from io import StringIO\n",
    "import os"
   ]
  },
  {
   "cell_type": "markdown",
   "id": "e960ba0e",
   "metadata": {},
   "source": [
    "## 2. Configuração de Caminhos e Arquivos"
   ]
  },
  {
   "cell_type": "code",
   "execution_count": 16,
   "id": "4e6604f3",
   "metadata": {},
   "outputs": [
    {
     "name": "stdout",
     "output_type": "stream",
     "text": [
      "Diretório verificado: ../../data/raw/\n",
      "Diretório verificado: ../../data/processed/\n",
      "Diretório verificado: ../../reports/\n",
      "Arquivo encontrado: ../../data/raw/br_ibge_ipca_mes_brasil.csv.gz\n",
      "Tamanho: 0.01 MB\n"
     ]
    }
   ],
   "source": [
    "# Estrutura de diretórios (Clean Architecture)\n",
    "diretorio_dados_brutos = '../../data/raw/'\n",
    "diretorio_dados_tratados = '../../data/processed/'\n",
    "diretorio_relatorios = '../../reports/'\n",
    "\n",
    "# Criando os diretórios se não existirem\n",
    "for diretorio in [diretorio_dados_brutos, diretorio_dados_tratados, diretorio_relatorios]:\n",
    "    os.makedirs(diretorio, exist_ok=True)\n",
    "    print(f\"Diretório verificado: {diretorio}\")\n",
    "\n",
    "# Configuração dos arquivos\n",
    "arquivo_original = os.path.join(diretorio_dados_brutos, 'br_ibge_ipca_mes_brasil.csv.gz')\n",
    "arquivo_tratado = os.path.join(diretorio_dados_tratados, 'ipca_processado.csv')\n",
    "\n",
    "# Verificar se o arquivo existe\n",
    "if os.path.exists(arquivo_original):\n",
    "    print(f\"Arquivo encontrado: {arquivo_original}\")\n",
    "    tamanho_mb = os.path.getsize(arquivo_original) / (1024 * 1024)\n",
    "    print(f\"Tamanho: {tamanho_mb:.2f} MB\")\n",
    "else:\n",
    "    print(f\"Arquivo não encontrado: {arquivo_original}\")\n",
    "    print(\"Por favor, coloque o arquivo 'br_ibge_ipca_mes_brasil.csv.gz' na pasta 'data/raw/'\")\n",
    "    \n",
    "    # Verificando se existe na raiz (para compatibilidade)\n",
    "    if os.path.exists('../../br_ibge_ipca_mes_brasil.csv.gz'):\n",
    "        print(\"Encontrado arquivo na raiz do projeto - será usado temporariamente\")\n",
    "        arquivo_original = '../../br_ibge_ipca_mes_brasil.csv.gz'"
   ]
  },
  {
   "cell_type": "markdown",
   "id": "439a3eed",
   "metadata": {},
   "source": [
    "## 3. Função de Carregamento e Tratamento dos Dados"
   ]
  },
  {
   "cell_type": "code",
   "execution_count": 17,
   "id": "3a8c06e6",
   "metadata": {},
   "outputs": [],
   "source": [
    "def carregar_e_tratar(nome_arquivo_comprimido):\n",
    "    \"\"\"\n",
    "    Carrega e trata os dados do IPCA a partir de um arquivo .csv.gz\n",
    "    \n",
    "    Parâmetros:\n",
    "    nome_arquivo_comprimido (str): nome do arquivo comprimido\n",
    "    \n",
    "    Retorna:\n",
    "    pandas.DataFrame: dados tratados do IPCA\n",
    "    \"\"\"\n",
    "    # Lendo o arquivo comprimido\n",
    "    with gzip.open(nome_arquivo_comprimido, 'rt') as arquivo:\n",
    "        conteudo = arquivo.read()\n",
    "    \n",
    "    # Tratando valores nulos\n",
    "    conteudo = conteudo.replace('..', '0')\n",
    "    \n",
    "    # Convertendo para DataFrame\n",
    "    df = pd.read_csv(StringIO(conteudo))\n",
    "    \n",
    "    # Limpeza e formatação dos dados\n",
    "    df = df.dropna(how='all')  # Remove linhas completamente vazias\n",
    "    \n",
    "    # Converte colunas numéricas\n",
    "    colunas_numericas = df.select_dtypes(include=['object']).columns\n",
    "    for col in colunas_numericas:\n",
    "        if col not in ['Código', 'Mês', 'Local']:\n",
    "            try:\n",
    "                df[col] = pd.to_numeric(df[col], errors='coerce')\n",
    "            except:\n",
    "                pass\n",
    "    \n",
    "    # Ordena por ano e mês se as colunas existirem\n",
    "    if 'Ano' in df.columns and 'Mês' in df.columns:\n",
    "        df = df.sort_values(['Ano', 'Mês'])\n",
    "    \n",
    "    print(f\"Dados carregados: {len(df)} registros\")\n",
    "    print(f\"Colunas: {list(df.columns)}\")\n",
    "    \n",
    "    return df"
   ]
  },
  {
   "cell_type": "markdown",
   "id": "73d9eb16",
   "metadata": {},
   "source": [
    "## 4. Execução do Processamento"
   ]
  },
  {
   "cell_type": "code",
   "execution_count": 18,
   "id": "1b8cc4e3",
   "metadata": {},
   "outputs": [
    {
     "name": "stdout",
     "output_type": "stream",
     "text": [
      "Dados carregados: 540 registros\n",
      "Colunas: ['ano', 'mes', 'indice', 'variacao_mensal', 'variacao_trimestral', 'variacao_semestral', 'variacao_anual', 'variacao_doze_meses']\n",
      "\n",
      " Dados carregados com sucesso!\n",
      "\n",
      "Shape dos dados: (540, 8)\n",
      "Primeiras 5 linhas:\n",
      "    ano  mes        indice  variacao_mensal  variacao_trimestral  \\\n",
      "0  2000    1  1.598410e+03             0.62                 2.19   \n",
      "1  2016    1  4.550230e+03             1.27                 3.27   \n",
      "2  1985    1  5.656761e-07            11.76                38.32   \n",
      "3  1997    1  1.379330e+03             1.18                 1.98   \n",
      "4  2014    1  3.836370e+03             0.55                 2.02   \n",
      "\n",
      "   variacao_semestral  variacao_anual  variacao_doze_meses  \n",
      "0                4.30            0.62                 8.85  \n",
      "1                4.91            1.27                10.71  \n",
      "2               86.66           11.76               221.27  \n",
      "3                2.89            1.18                 9.39  \n",
      "4                3.21            0.55                 5.59  \n"
     ]
    }
   ],
   "source": [
    "# Carregando e tratando os dados\n",
    "try:\n",
    "    df_ipca = carregar_e_tratar(arquivo_original)\n",
    "    print(\"\\n Dados carregados com sucesso!\")\n",
    "    \n",
    "    # Exibindo informações sobre os dados\n",
    "    print(f\"\\nShape dos dados: {df_ipca.shape}\")\n",
    "    print(f\"Primeiras 5 linhas:\")\n",
    "    print(df_ipca.head())\n",
    "    \n",
    "except Exception as e:\n",
    "    print(f\" Erro ao carregar os dados: {e}\")"
   ]
  },
  {
   "cell_type": "markdown",
   "id": "eec82935",
   "metadata": {},
   "source": [
    "## 5. Análise Exploratória dos Dados"
   ]
  },
  {
   "cell_type": "code",
   "execution_count": 19,
   "id": "d5cf3918",
   "metadata": {},
   "outputs": [
    {
     "name": "stdout",
     "output_type": "stream",
     "text": [
      " ANÁLISE EXPLORATÓRIA DOS DADOS IPCA\n",
      "==================================================\n",
      "Número de registros: 540\n",
      "Número de colunas: 8\n",
      "Colunas: ['ano', 'mes', 'indice', 'variacao_mensal', 'variacao_trimestral', 'variacao_semestral', 'variacao_anual', 'variacao_doze_meses']\n",
      "\n",
      " Valores nulos por coluna:\n",
      "  variacao_mensal: 1 (0.2%)\n",
      "  variacao_trimestral: 3 (0.6%)\n",
      "  variacao_semestral: 6 (1.1%)\n",
      "  variacao_anual: 1 (0.2%)\n",
      "  variacao_doze_meses: 12 (2.2%)\n",
      "\n",
      " Tipos de dados:\n",
      "ano                      int64\n",
      "mes                      int64\n",
      "indice                 float64\n",
      "variacao_mensal        float64\n",
      "variacao_trimestral    float64\n",
      "variacao_semestral     float64\n",
      "variacao_anual         float64\n",
      "variacao_doze_meses    float64\n",
      "dtype: object\n",
      "\n",
      "  Estatísticas descritivas:\n",
      "               ano         mes        indice  variacao_mensal  \\\n",
      "count   540.000000  540.000000  5.400000e+02       539.000000   \n",
      "mean   2001.916667    6.500000  2.292682e+03         5.700724   \n",
      "std      13.002158    3.455253  2.114032e+03        10.679030   \n",
      "min    1979.000000    1.000000  7.618300e-09        -0.680000   \n",
      "25%    1991.000000    3.750000  8.825883e-02         0.370000   \n",
      "50%    2002.000000    6.500000  1.862120e+03         0.740000   \n",
      "75%    2013.000000    9.250000  3.729210e+03         6.615000   \n",
      "max    2024.000000   12.000000  7.063770e+03        82.390000   \n",
      "\n",
      "       variacao_trimestral  variacao_semestral  variacao_anual  \\\n",
      "count           537.000000          534.000000      539.000000   \n",
      "mean             21.669814           64.214251       92.323896   \n",
      "std              45.597146          158.152131      260.693766   \n",
      "min              -1.320000           -0.930000       -0.160000   \n",
      "25%               1.170000            2.410000        2.430000   \n",
      "50%               2.080000            3.945000        4.960000   \n",
      "75%              21.500000           48.317500       44.540000   \n",
      "max             437.020000         1580.940000     2477.150000   \n",
      "\n",
      "       variacao_doze_meses  \n",
      "count           528.000000  \n",
      "mean            302.659886  \n",
      "std             855.268158  \n",
      "min               1.650000  \n",
      "25%               5.200000  \n",
      "50%               7.665000  \n",
      "75%             135.350000  \n",
      "max            6821.310000  \n"
     ]
    }
   ],
   "source": [
    "# Análise exploratória dos dados\n",
    "if 'df_ipca' in locals():\n",
    "    print(\" ANÁLISE EXPLORATÓRIA DOS DADOS IPCA\")\n",
    "    print(\"=\" * 50)\n",
    "    \n",
    "    # Informações gerais\n",
    "    print(f\"Número de registros: {len(df_ipca)}\")\n",
    "    print(f\"Número de colunas: {len(df_ipca.columns)}\")\n",
    "    print(f\"Colunas: {list(df_ipca.columns)}\")\n",
    "    \n",
    "    # Verificando valores nulos\n",
    "    print(f\"\\n Valores nulos por coluna:\")\n",
    "    nulos = df_ipca.isnull().sum()\n",
    "    for col, count in nulos.items():\n",
    "        if count > 0:\n",
    "            print(f\"  {col}: {count} ({count/len(df_ipca)*100:.1f}%)\")\n",
    "    \n",
    "    # Informações sobre tipos de dados\n",
    "    print(f\"\\n Tipos de dados:\")\n",
    "    print(df_ipca.dtypes)\n",
    "    \n",
    "    # Estatísticas descritivas para colunas numéricas\n",
    "    colunas_numericas = df_ipca.select_dtypes(include=['int64', 'float64']).columns\n",
    "    if len(colunas_numericas) > 0:\n",
    "        print(f\"\\n  Estatísticas descritivas:\")\n",
    "        print(df_ipca[colunas_numericas].describe())"
   ]
  },
  {
   "cell_type": "markdown",
   "id": "5d6ca332",
   "metadata": {},
   "source": [
    "## 6. Exportação dos Dados Tratados"
   ]
  },
  {
   "cell_type": "code",
   "execution_count": 20,
   "id": "a6e00d55",
   "metadata": {},
   "outputs": [
    {
     "name": "stdout",
     "output_type": "stream",
     "text": [
      "Dados salvos com sucesso em: ../../data/processed/ipca_processado.csv\n",
      "Tamanho do arquivo: 23808 bytes\n",
      "Arquivo ../../data/processed/ipca_processado.csv criado com sucesso!\n",
      "Verificação - Primeiras 3 linhas do arquivo salvo:\n",
      "    ano  mes        indice  variacao_mensal  variacao_trimestral  \\\n",
      "0  2000    1  1.598410e+03             0.62                 2.19   \n",
      "1  2016    1  4.550230e+03             1.27                 3.27   \n",
      "2  1985    1  5.656761e-07            11.76                38.32   \n",
      "\n",
      "   variacao_semestral  variacao_anual  variacao_doze_meses  \n",
      "0                4.30            0.62                 8.85  \n",
      "1                4.91            1.27                10.71  \n",
      "2               86.66           11.76               221.27  \n"
     ]
    }
   ],
   "source": [
    "# Salvando os dados tratados\n",
    "if 'df_ipca' in locals():\n",
    "    try:\n",
    "        df_ipca.to_csv(arquivo_tratado, index=False)\n",
    "        print(f\"Dados salvos com sucesso em: {arquivo_tratado}\")\n",
    "        print(f\"Tamanho do arquivo: {os.path.getsize(arquivo_tratado)} bytes\")\n",
    "        \n",
    "        # Verificando se o arquivo foi criado\n",
    "        if os.path.exists(arquivo_tratado):\n",
    "            print(f\"Arquivo {arquivo_tratado} criado com sucesso!\")\n",
    "            \n",
    "            # Lendo as primeiras linhas do arquivo salvo para verificação\n",
    "            df_verificacao = pd.read_csv(arquivo_tratado, nrows=3)\n",
    "            print(f\"Verificação - Primeiras 3 linhas do arquivo salvo:\")\n",
    "            print(df_verificacao)\n",
    "            \n",
    "    except Exception as e:\n",
    "        print(f\"Erro ao salvar o arquivo: {e}\")\n",
    "else:\n",
    "    print(\"Dados não foram carregados. Execute as células anteriores primeiro.\")"
   ]
  }
 ],
 "metadata": {
  "kernelspec": {
   "display_name": "Python 3",
   "language": "python",
   "name": "python3"
  },
  "language_info": {
   "codemirror_mode": {
    "name": "ipython",
    "version": 3
   },
   "file_extension": ".py",
   "mimetype": "text/x-python",
   "name": "python",
   "nbconvert_exporter": "python",
   "pygments_lexer": "ipython3",
   "version": "3.11.5"
  }
 },
 "nbformat": 4,
 "nbformat_minor": 5
}
