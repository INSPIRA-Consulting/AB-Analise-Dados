{
 "cells": [
  {
   "cell_type": "markdown",
   "id": "3c9387e9",
   "metadata": {},
   "source": [
    "# Processamento de Feriados do Brasil (2024-2025)\n",
    "\n",
    "Este notebook baixa, padroniza e salva os feriados nacionais, estaduais, municipais e facultativos do Brasil."
   ]
  },
  {
   "cell_type": "markdown",
   "id": "71b93e61",
   "metadata": {},
   "source": [
    "## 1. Importação de Bibliotecas"
   ]
  },
  {
   "cell_type": "code",
   "execution_count": 7,
   "id": "e6cb12ca",
   "metadata": {},
   "outputs": [
    {
     "name": "stdout",
     "output_type": "stream",
     "text": [
      "Requirement already satisfied: requests in /home/presilli/.asdf/installs/python/3.11.5/lib/python3.11/site-packages (2.32.5)\n",
      "Requirement already satisfied: charset_normalizer<4,>=2 in /home/presilli/.asdf/installs/python/3.11.5/lib/python3.11/site-packages (from requests) (3.4.3)\n",
      "Requirement already satisfied: idna<4,>=2.5 in /home/presilli/.asdf/installs/python/3.11.5/lib/python3.11/site-packages (from requests) (3.10)\n",
      "Requirement already satisfied: urllib3<3,>=1.21.1 in /home/presilli/.asdf/installs/python/3.11.5/lib/python3.11/site-packages (from requests) (2.5.0)\n",
      "Requirement already satisfied: certifi>=2017.4.17 in /home/presilli/.asdf/installs/python/3.11.5/lib/python3.11/site-packages (from requests) (2025.8.3)\n",
      "\n",
      "\u001b[1m[\u001b[0m\u001b[34;49mnotice\u001b[0m\u001b[1;39;49m]\u001b[0m\u001b[39;49m A new release of pip is available: \u001b[0m\u001b[31;49m23.2.1\u001b[0m\u001b[39;49m -> \u001b[0m\u001b[32;49m25.2\u001b[0m\n",
      "\u001b[1m[\u001b[0m\u001b[34;49mnotice\u001b[0m\u001b[1;39;49m]\u001b[0m\u001b[39;49m To update, run: \u001b[0m\u001b[32;49mpip install --upgrade pip\u001b[0m\n",
      "Note: you may need to restart the kernel to use updated packages.\n"
     ]
    }
   ],
   "source": [
    "%pip install requests"
   ]
  },
  {
   "cell_type": "code",
   "execution_count": 8,
   "id": "4a6a7c02",
   "metadata": {},
   "outputs": [],
   "source": [
    "import os\n",
    "import requests\n",
    "import pandas as pd\n",
    "from io import StringIO"
   ]
  },
  {
   "cell_type": "markdown",
   "id": "fb67d5b6",
   "metadata": {},
   "source": [
    "## 2. Configuração de URLs e Parâmetros"
   ]
  },
  {
   "cell_type": "code",
   "execution_count": 9,
   "id": "3b4021a9",
   "metadata": {},
   "outputs": [],
   "source": [
    "# URLs dos arquivos CSV de feriados para 2024 e 2025\n",
    "base_urls = {\n",
    "    'nacional': 'https://github.com/joaopbini/feriados-brasil/raw/master/dados/feriados/nacional/csv/',\n",
    "    'estadual': 'https://github.com/joaopbini/feriados-brasil/raw/master/dados/feriados/estadual/csv/',\n",
    "    'municipal': 'https://github.com/joaopbini/feriados-brasil/raw/master/dados/feriados/municipal/csv/',\n",
    "    'facultativo': 'https://github.com/joaopbini/feriados-brasil/raw/master/dados/feriados/facultativo/csv/'\n",
    "}\n",
    "anos = ['2024', '2025']\n",
    "\n",
    "# Definir colunas padrão\n",
    "colunas_finais = ['Data', 'Nome_Feriado', 'Tipo_Feriado', 'Descricao', 'Sigla_Estado', 'Municipio']"
   ]
  },
  {
   "cell_type": "markdown",
   "id": "0537cb78",
   "metadata": {},
   "source": [
    "## 3. Criação de Diretórios"
   ]
  },
  {
   "cell_type": "code",
   "execution_count": 10,
   "id": "84d158a0",
   "metadata": {},
   "outputs": [],
   "source": [
    "# Pasta de destino\n",
    "pasta_destino = \"../../data/processed/\"\n",
    "pasta_feriados = os.path.join(pasta_destino, 'feriados')\n",
    "os.makedirs(pasta_feriados, exist_ok=True)\n",
    "\n",
    "# Lista para armazenar todos os DataFrames\n",
    "todos_dataframes = []"
   ]
  },
  {
   "cell_type": "markdown",
   "id": "a6d075f9",
   "metadata": {},
   "source": [
    "## 4. Download e Processamento dos Dados"
   ]
  },
  {
   "cell_type": "code",
   "execution_count": 11,
   "id": "d8109730",
   "metadata": {},
   "outputs": [
    {
     "name": "stdout",
     "output_type": "stream",
     "text": [
      "Baixando https://github.com/joaopbini/feriados-brasil/raw/master/dados/feriados/nacional/csv/2024.csv ...\n",
      "Dados de nacional 2024 salvos em ../../data/processed/feriados/2024/nacional_2024.csv (8 registros)\n",
      "Registros filtrados (SP/NACIONAL): 8\n",
      "Baixando https://github.com/joaopbini/feriados-brasil/raw/master/dados/feriados/nacional/csv/2025.csv ...\n",
      "Dados de nacional 2025 salvos em ../../data/processed/feriados/2025/nacional_2025.csv (8 registros)\n",
      "Registros filtrados (SP/NACIONAL): 8\n",
      "Baixando https://github.com/joaopbini/feriados-brasil/raw/master/dados/feriados/estadual/csv/2024.csv ...\n",
      "Dados de estadual 2024 salvos em ../../data/processed/feriados/2024/estadual_2024.csv (48 registros)\n",
      "Registros filtrados (SP/NACIONAL): 1\n",
      "Baixando https://github.com/joaopbini/feriados-brasil/raw/master/dados/feriados/estadual/csv/2025.csv ...\n",
      "Dados de estadual 2025 salvos em ../../data/processed/feriados/2025/estadual_2025.csv (48 registros)\n",
      "Registros filtrados (SP/NACIONAL): 1\n",
      "Baixando https://github.com/joaopbini/feriados-brasil/raw/master/dados/feriados/municipal/csv/2024.csv ...\n",
      "Dados de municipal 2024 salvos em ../../data/processed/feriados/2024/municipal_2024.csv (8538 registros)\n",
      "Registros filtrados (SP/NACIONAL): 1351\n",
      "Baixando https://github.com/joaopbini/feriados-brasil/raw/master/dados/feriados/municipal/csv/2025.csv ...\n",
      "Dados de municipal 2025 salvos em ../../data/processed/feriados/2025/municipal_2025.csv (8550 registros)\n",
      "Registros filtrados (SP/NACIONAL): 1350\n",
      "Baixando https://github.com/joaopbini/feriados-brasil/raw/master/dados/feriados/facultativo/csv/2024.csv ...\n",
      "Dados de facultativo 2024 salvos em ../../data/processed/feriados/2024/facultativo_2024.csv (25 registros)\n",
      "Registros filtrados (SP/NACIONAL): 0\n",
      "Baixando https://github.com/joaopbini/feriados-brasil/raw/master/dados/feriados/facultativo/csv/2025.csv ...\n",
      "Dados de facultativo 2025 salvos em ../../data/processed/feriados/2025/facultativo_2025.csv (26 registros)\n",
      "Registros filtrados (SP/NACIONAL): 0\n"
     ]
    }
   ],
   "source": [
    "for categoria, base_url in base_urls.items():\n",
    "    for ano in anos:\n",
    "        url = f'{base_url}{ano}.csv'\n",
    "        print(f'Baixando {url} ...')\n",
    "        try:\n",
    "            resp = requests.get(url)\n",
    "            resp.raise_for_status()\n",
    "            \n",
    "            df = pd.read_csv(StringIO(resp.text))\n",
    "            df.columns = colunas_finais[:len(df.columns)]\n",
    "            \n",
    "            # Garantir que todas as colunas finais existam\n",
    "            for coluna in colunas_finais:\n",
    "                if coluna not in df.columns:\n",
    "                    df[coluna] = ''\n",
    "            \n",
    "            df = df[colunas_finais]\n",
    "            \n",
    "            # Filtrar apenas registros de SP ou NACIONAL\n",
    "            df_filtrado = df[(df['Sigla_Estado'] == 'SP') | (df['Tipo_Feriado'] == 'NACIONAL')]\n",
    "            \n",
    "            # Criar diretório do ano se não existir\n",
    "            pasta_ano = os.path.join(pasta_feriados, ano)\n",
    "            os.makedirs(pasta_ano, exist_ok=True)\n",
    "            \n",
    "            # Montar nome de arquivo e salvar\n",
    "            nome_arquivo = f'{categoria}_{ano}.csv'\n",
    "            caminho_arquivo = os.path.join(pasta_ano, nome_arquivo)\n",
    "            df.to_csv(caminho_arquivo, index=False, encoding='utf-8')\n",
    "\n",
    "            # Armazenar DataFrame filtrado na lista geral\n",
    "            todos_dataframes.append(df_filtrado)\n",
    "            print(f'Dados de {categoria} {ano} salvos em {caminho_arquivo} ({len(df)} registros)')\n",
    "            print(f'Registros filtrados (SP/NACIONAL): {len(df_filtrado)}')\n",
    "                        \n",
    "        except Exception as e:\n",
    "            print(f'Erro ao baixar {url}: {e}')"
   ]
  },
  {
   "cell_type": "markdown",
   "id": "cec176af",
   "metadata": {},
   "source": [
    "## 5. Consolidação dos Dados"
   ]
  },
  {
   "cell_type": "code",
   "execution_count": 12,
   "id": "f3daab05",
   "metadata": {},
   "outputs": [
    {
     "name": "stdout",
     "output_type": "stream",
     "text": [
      "Combinando 8 DataFrames...\n",
      "Arquivo consolidado salvo em: ../../data/processed/feriados/feriados_completo.csv (2719 registros)\n"
     ]
    }
   ],
   "source": [
    "# Juntar todos os DataFrames em um único arquivo\n",
    "if todos_dataframes:\n",
    "    print(f'Combinando {len(todos_dataframes)} DataFrames...')\n",
    "    df_combinado = pd.concat(todos_dataframes, ignore_index=True)\n",
    "    \n",
    "    # Salvar arquivo consolidado\n",
    "    arquivo_final = os.path.join(pasta_feriados, 'feriados_completo.csv')\n",
    "    df_combinado.to_csv(arquivo_final, index=False)\n",
    "    print(f'Arquivo consolidado salvo em: {arquivo_final} ({len(df_combinado)} registros)')\n",
    "else:\n",
    "    print('Nenhum dado foi carregado')"
   ]
  }
 ],
 "metadata": {
  "kernelspec": {
   "display_name": "Python 3",
   "language": "python",
   "name": "python3"
  },
  "language_info": {
   "codemirror_mode": {
    "name": "ipython",
    "version": 3
   },
   "file_extension": ".py",
   "mimetype": "text/x-python",
   "name": "python",
   "nbconvert_exporter": "python",
   "pygments_lexer": "ipython3",
   "version": "3.11.5"
  }
 },
 "nbformat": 4,
 "nbformat_minor": 5
}
